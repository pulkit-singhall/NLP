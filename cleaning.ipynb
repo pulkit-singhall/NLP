{
 "cells": [
  {
   "cell_type": "markdown",
   "metadata": {},
   "source": [
    "# Importing the libraries"
   ]
  },
  {
   "cell_type": "code",
   "execution_count": 20,
   "metadata": {},
   "outputs": [],
   "source": [
    "import string\n",
    "import re\n",
    "import pandas as pd\n",
    "import nltk\n",
    "\n",
    "from nltk.corpus import stopwords"
   ]
  },
  {
   "cell_type": "markdown",
   "metadata": {},
   "source": [
    "# Dataset"
   ]
  },
  {
   "cell_type": "code",
   "execution_count": 3,
   "metadata": {},
   "outputs": [
    {
     "data": {
      "text/html": [
       "<div>\n",
       "<style scoped>\n",
       "    .dataframe tbody tr th:only-of-type {\n",
       "        vertical-align: middle;\n",
       "    }\n",
       "\n",
       "    .dataframe tbody tr th {\n",
       "        vertical-align: top;\n",
       "    }\n",
       "\n",
       "    .dataframe thead th {\n",
       "        text-align: right;\n",
       "    }\n",
       "</style>\n",
       "<table border=\"1\" class=\"dataframe\">\n",
       "  <thead>\n",
       "    <tr style=\"text-align: right;\">\n",
       "      <th></th>\n",
       "      <th>Review</th>\n",
       "      <th>label</th>\n",
       "    </tr>\n",
       "  </thead>\n",
       "  <tbody>\n",
       "    <tr>\n",
       "      <th>0</th>\n",
       "      <td>Great music service, the audio is high quality...</td>\n",
       "      <td>POSITIVE</td>\n",
       "    </tr>\n",
       "    <tr>\n",
       "      <th>1</th>\n",
       "      <td>Please ignore previous negative rating. This a...</td>\n",
       "      <td>POSITIVE</td>\n",
       "    </tr>\n",
       "    <tr>\n",
       "      <th>2</th>\n",
       "      <td>This pop-up \"Get the best Spotify experience o...</td>\n",
       "      <td>NEGATIVE</td>\n",
       "    </tr>\n",
       "    <tr>\n",
       "      <th>3</th>\n",
       "      <td>Really buggy and terrible to use as of recently</td>\n",
       "      <td>NEGATIVE</td>\n",
       "    </tr>\n",
       "    <tr>\n",
       "      <th>4</th>\n",
       "      <td>Dear Spotify why do I get songs that I didn't ...</td>\n",
       "      <td>NEGATIVE</td>\n",
       "    </tr>\n",
       "  </tbody>\n",
       "</table>\n",
       "</div>"
      ],
      "text/plain": [
       "                                              Review     label\n",
       "0  Great music service, the audio is high quality...  POSITIVE\n",
       "1  Please ignore previous negative rating. This a...  POSITIVE\n",
       "2  This pop-up \"Get the best Spotify experience o...  NEGATIVE\n",
       "3    Really buggy and terrible to use as of recently  NEGATIVE\n",
       "4  Dear Spotify why do I get songs that I didn't ...  NEGATIVE"
      ]
     },
     "execution_count": 3,
     "metadata": {},
     "output_type": "execute_result"
    }
   ],
   "source": [
    "df = pd.read_csv(\"spotify_reviews.csv\")\n",
    "df.head()"
   ]
  },
  {
   "cell_type": "code",
   "execution_count": 4,
   "metadata": {},
   "outputs": [
    {
     "data": {
      "text/plain": [
       "(52702, 2)"
      ]
     },
     "execution_count": 4,
     "metadata": {},
     "output_type": "execute_result"
    }
   ],
   "source": [
    "df.shape"
   ]
  },
  {
   "cell_type": "code",
   "execution_count": 5,
   "metadata": {},
   "outputs": [
    {
     "name": "stdout",
     "output_type": "stream",
     "text": [
      "<class 'pandas.core.frame.DataFrame'>\n",
      "RangeIndex: 52702 entries, 0 to 52701\n",
      "Data columns (total 2 columns):\n",
      " #   Column  Non-Null Count  Dtype \n",
      "---  ------  --------------  ----- \n",
      " 0   Review  52686 non-null  object\n",
      " 1   label   52702 non-null  object\n",
      "dtypes: object(2)\n",
      "memory usage: 823.6+ KB\n"
     ]
    }
   ],
   "source": [
    "df.info()"
   ]
  },
  {
   "cell_type": "code",
   "execution_count": 6,
   "metadata": {},
   "outputs": [
    {
     "data": {
      "text/plain": [
       "label\n",
       "NEGATIVE    29423\n",
       "POSITIVE    23279\n",
       "Name: count, dtype: int64"
      ]
     },
     "execution_count": 6,
     "metadata": {},
     "output_type": "execute_result"
    }
   ],
   "source": [
    "df['label'].value_counts()"
   ]
  },
  {
   "cell_type": "code",
   "execution_count": 7,
   "metadata": {},
   "outputs": [
    {
     "data": {
      "text/plain": [
       "(52686, 2)"
      ]
     },
     "execution_count": 7,
     "metadata": {},
     "output_type": "execute_result"
    }
   ],
   "source": [
    "reviews = df['Review']\n",
    "\n",
    "# print(type(df['Review'][0])) -> string\n",
    "# print(df['Review'][0]) -> first review\n",
    "\n",
    "# there are some null values in df (16 values)\n",
    "# for rev in df['Review']:\n",
    "#     if(type(rev) == float):\n",
    "#         print(rev)\n",
    "\n",
    "# remove the empty rows from the df\n",
    "df = df.dropna(how='any')\n",
    "df.shape"
   ]
  },
  {
   "cell_type": "markdown",
   "metadata": {},
   "source": [
    "# PreProcessing of text"
   ]
  },
  {
   "cell_type": "markdown",
   "metadata": {},
   "source": [
    "Lowering of the text\n",
    "1. python is a case sensitive language so it treats two same words differently when in lower or upper cases\n",
    "2. lower casing reduces the vocab size and reduces complexity\n",
    "3. for eg - Basic and basic will be treated differently"
   ]
  },
  {
   "cell_type": "code",
   "execution_count": 8,
   "metadata": {},
   "outputs": [
    {
     "name": "stdout",
     "output_type": "stream",
     "text": [
      "i have a good sense of humour\n",
      "--------\n"
     ]
    },
    {
     "data": {
      "text/plain": [
       "0        great music service, the audio is high quality...\n",
       "1        please ignore previous negative rating. this a...\n",
       "2        this pop-up \"get the best spotify experience o...\n",
       "3          really buggy and terrible to use as of recently\n",
       "4        dear spotify why do i get songs that i didn't ...\n",
       "                               ...                        \n",
       "52697                                         yes the best\n",
       "52698    spotify won my heart in feb 2024 you won my he...\n",
       "52699    i tried to open the app and it wont open i res...\n",
       "52700                                                good \n",
       "52701    nice app to play music and at very affordable ...\n",
       "Name: Review, Length: 52686, dtype: object"
      ]
     },
     "execution_count": 8,
     "metadata": {},
     "output_type": "execute_result"
    }
   ],
   "source": [
    "def lowering(text):\n",
    "    return text.lower()\n",
    "\n",
    "# for datasets -> df['Review'].str.lower()\n",
    "\n",
    "text = 'I have a Good Sense of Humour'\n",
    "print(lowering(text))\n",
    "\n",
    "print(\"--------\")\n",
    "\n",
    "# print(df['Review'][0].lower())\n",
    "df['Review'] = df['Review'].apply(lowering)\n",
    "df['Review']"
   ]
  },
  {
   "cell_type": "markdown",
   "metadata": {},
   "source": [
    "Remove HTML Tags\n",
    "1. Decrease complexity\n",
    "2. There is no semantic meaning in the tags"
   ]
  },
  {
   "cell_type": "code",
   "execution_count": 9,
   "metadata": {},
   "outputs": [
    {
     "name": "stdout",
     "output_type": "stream",
     "text": [
      "this is a paragraphhellobreak text\n",
      "--------\n"
     ]
    },
    {
     "data": {
      "text/plain": [
       "0        great music service, the audio is high quality...\n",
       "1        please ignore previous negative rating. this a...\n",
       "2        this pop-up \"get the best spotify experience o...\n",
       "3          really buggy and terrible to use as of recently\n",
       "4        dear spotify why do i get songs that i didn't ...\n",
       "                               ...                        \n",
       "52697                                         yes the best\n",
       "52698    spotify won my heart in feb 2024 you won my he...\n",
       "52699    i tried to open the app and it wont open i res...\n",
       "52700                                                good \n",
       "52701    nice app to play music and at very affordable ...\n",
       "Name: Review, Length: 52686, dtype: object"
      ]
     },
     "execution_count": 9,
     "metadata": {},
     "output_type": "execute_result"
    }
   ],
   "source": [
    "regex = '<.*?>'\n",
    "\n",
    "def removeHTMLTags(text):\n",
    "    pattern = re.compile(regex)\n",
    "    return pattern.sub(r'', text)\n",
    "\n",
    "text = '<html><body><p>this is a paragraph<p/>hello<br>break text<br/></body>'\n",
    "print(removeHTMLTags(text))\n",
    "print('--------')\n",
    "\n",
    "df['Review'] = df['Review'].apply(removeHTMLTags)\n",
    "df['Review']"
   ]
  },
  {
   "cell_type": "markdown",
   "metadata": {},
   "source": [
    "Remove URLs"
   ]
  },
  {
   "cell_type": "code",
   "execution_count": 10,
   "metadata": {},
   "outputs": [
    {
     "name": "stdout",
     "output_type": "stream",
     "text": [
      " and  are url of google and youtube\n"
     ]
    },
    {
     "data": {
      "text/plain": [
       "0        great music service, the audio is high quality...\n",
       "1        please ignore previous negative rating. this a...\n",
       "2        this pop-up \"get the best spotify experience o...\n",
       "3          really buggy and terrible to use as of recently\n",
       "4        dear spotify why do i get songs that i didn't ...\n",
       "                               ...                        \n",
       "52697                                         yes the best\n",
       "52698    spotify won my heart in feb 2024 you won my he...\n",
       "52699    i tried to open the app and it wont open i res...\n",
       "52700                                                good \n",
       "52701    nice app to play music and at very affordable ...\n",
       "Name: Review, Length: 52686, dtype: object"
      ]
     },
     "execution_count": 10,
     "metadata": {},
     "output_type": "execute_result"
    }
   ],
   "source": [
    "regex = 'https?://\\S+|www\\.\\S+'\n",
    "\n",
    "def removeURLs(text):\n",
    "    pattern = re.compile(regex)\n",
    "    return pattern.sub(r'', text)\n",
    "\n",
    "text = 'www.google.com and https://youtube.com are url of google and youtube'\n",
    "print(removeURLs(text))\n",
    "\n",
    "df['Review'] = df['Review'].apply(removeURLs)\n",
    "df['Review']"
   ]
  },
  {
   "cell_type": "markdown",
   "metadata": {},
   "source": [
    "Remove Punctuation\n",
    "1. decreases the vocab size"
   ]
  },
  {
   "cell_type": "code",
   "execution_count": 11,
   "metadata": {},
   "outputs": [
    {
     "name": "stdout",
     "output_type": "stream",
     "text": [
      "!\"#$%&'()*+,-./:;<=>?@[\\]^_`{|}~\n",
      "Hello How are you I am fine\n"
     ]
    },
    {
     "data": {
      "text/plain": [
       "0        great music service the audio is high quality ...\n",
       "1        please ignore previous negative rating this ap...\n",
       "2        this popup get the best spotify experience on ...\n",
       "3          really buggy and terrible to use as of recently\n",
       "4        dear spotify why do i get songs that i didnt p...\n",
       "                               ...                        \n",
       "52697                                         yes the best\n",
       "52698    spotify won my heart in feb 2024 you won my he...\n",
       "52699    i tried to open the app and it wont open i res...\n",
       "52700                                                good \n",
       "52701    nice app to play music and at very affordable ...\n",
       "Name: Review, Length: 52686, dtype: object"
      ]
     },
     "execution_count": 11,
     "metadata": {},
     "output_type": "execute_result"
    }
   ],
   "source": [
    "punctuation = string.punctuation\n",
    "\n",
    "print(punctuation)\n",
    "\n",
    "# slow method\n",
    "def removePuncSlow(text):\n",
    "    for p in punctuation:\n",
    "        text = text.replace(p,\"\")\n",
    "    return text\n",
    "\n",
    "# fast method\n",
    "def removePuncFast(text):\n",
    "    return text.translate(str.maketrans('','',punctuation))\n",
    "\n",
    "text = \"Hello! How are you? I am fine.#\"\n",
    "print(removePuncFast(text))\n",
    "\n",
    "df['Review'] = df['Review'].apply(removePuncFast)\n",
    "df['Review']"
   ]
  },
  {
   "cell_type": "markdown",
   "metadata": {},
   "source": [
    "Removing the Stopwords"
   ]
  },
  {
   "cell_type": "code",
   "execution_count": 12,
   "metadata": {},
   "outputs": [
    {
     "name": "stderr",
     "output_type": "stream",
     "text": [
      "[nltk_data] Downloading package stopwords to\n",
      "[nltk_data]     /Users/pulkitsinghal/nltk_data...\n",
      "[nltk_data]   Package stopwords is already up-to-date!\n"
     ]
    },
    {
     "data": {
      "text/plain": [
       "True"
      ]
     },
     "execution_count": 12,
     "metadata": {},
     "output_type": "execute_result"
    }
   ],
   "source": [
    "nltk.download('stopwords')"
   ]
  },
  {
   "cell_type": "code",
   "execution_count": 16,
   "metadata": {},
   "outputs": [
    {
     "name": "stdout",
     "output_type": "stream",
     "text": [
      "Size of Stopwords in english 179\n",
      "   good chance  india winning  match\n",
      "-------\n"
     ]
    },
    {
     "data": {
      "text/plain": [
       "0        great music service  audio  high quality   app...\n",
       "1        please ignore previous negative rating  app  s...\n",
       "2         popup get  best spotify experience  android 1...\n",
       "3                   really buggy  terrible  use   recently\n",
       "4        dear spotify    get songs   didnt put   playli...\n",
       "                               ...                        \n",
       "52697                                            yes  best\n",
       "52698    spotify   heart  feb 2024    heart  music  lyr...\n",
       "52699     tried  open  app   wont open  restarted  phon...\n",
       "52700                                                good \n",
       "52701             nice app  play music    affordable price\n",
       "Name: Review, Length: 52686, dtype: object"
      ]
     },
     "execution_count": 16,
     "metadata": {},
     "output_type": "execute_result"
    }
   ],
   "source": [
    "stopwords = stopwords.words('english')\n",
    "size = len(stopwords)\n",
    "print('Size of Stopwords in english', size)\n",
    "\n",
    "def removeStopwords(text):\n",
    "    new_text = []\n",
    "    \n",
    "    for word in text.split(\" \"):\n",
    "        if word in stopwords:\n",
    "            new_text.append('')\n",
    "        else:\n",
    "            new_text.append(word)\n",
    "    x = new_text[:]\n",
    "    new_text.clear()\n",
    "    return \" \".join(x)\n",
    "\n",
    "text = 'there is a good chance of india winning this match'\n",
    "print(removeStopwords(text))\n",
    "print('-------')\n",
    "\n",
    "df['Review'] = df['Review'].apply(removeStopwords)\n",
    "df['Review']"
   ]
  },
  {
   "cell_type": "markdown",
   "metadata": {},
   "source": [
    "Removing/Handling Emojis"
   ]
  },
  {
   "cell_type": "code",
   "execution_count": 17,
   "metadata": {},
   "outputs": [
    {
     "name": "stdout",
     "output_type": "stream",
     "text": [
      "Hello! It is a good day\n"
     ]
    },
    {
     "data": {
      "text/plain": [
       "0        great music service  audio  high quality   app...\n",
       "1        please ignore previous negative rating  app  s...\n",
       "2         popup get  best spotify experience  android 1...\n",
       "3                   really buggy  terrible  use   recently\n",
       "4        dear spotify    get songs   didnt put   playli...\n",
       "                               ...                        \n",
       "52697                                            yes  best\n",
       "52698    spotify   heart  feb 2024    heart  music  lyr...\n",
       "52699     tried  open  app   wont open  restarted  phon...\n",
       "52700                                                good \n",
       "52701             nice app  play music    affordable price\n",
       "Name: Review, Length: 52686, dtype: object"
      ]
     },
     "execution_count": 17,
     "metadata": {},
     "output_type": "execute_result"
    }
   ],
   "source": [
    "def removeEmojis(text):\n",
    "    emoji_pattern = re.compile(\"[\"\n",
    "                           u\"\\U0001F600-\\U0001F64F\"  # emoticons\n",
    "                           u\"\\U0001F300-\\U0001F5FF\"  # symbols & pictographs\n",
    "                           u\"\\U0001F680-\\U0001F6FF\"  # transport & map symbols\n",
    "                           u\"\\U0001F1E0-\\U0001F1FF\"  # flags (iOS)\n",
    "                           u\"\\U00002702-\\U000027B0\"\n",
    "                           u\"\\U000024C2-\\U0001F251\"\n",
    "                           \"]+\", flags=re.UNICODE)\n",
    "    return emoji_pattern.sub(r'', text)\n",
    "\n",
    "text = 'Hello! 😊It is a good day😊😊'\n",
    "print(removeEmojis(text))\n",
    "\n",
    "df['Review'] = df['Review'].apply(removeEmojis)\n",
    "df['Review']"
   ]
  },
  {
   "cell_type": "code",
   "execution_count": 21,
   "metadata": {},
   "outputs": [
    {
     "name": "stdout",
     "output_type": "stream",
     "text": [
      "laughing my ass off funny\n"
     ]
    },
    {
     "data": {
      "text/plain": [
       "0        great music service  audio  high quality   app...\n",
       "1        please ignore previous negative rating  app  s...\n",
       "2         popup get  best spotify experience  android 1...\n",
       "3                   really buggy  terrible  use   recently\n",
       "4        dear spotify    get songs   didnt put   playli...\n",
       "                               ...                        \n",
       "52697                                            yes  best\n",
       "52698    spotify   heart  feb 2024    heart  music  lyr...\n",
       "52699     tried  open  app   wont open  restarted  phon...\n",
       "52700                                                good \n",
       "52701             nice app  play music    affordable price\n",
       "Name: Review, Length: 52686, dtype: object"
      ]
     },
     "execution_count": 21,
     "metadata": {},
     "output_type": "execute_result"
    }
   ],
   "source": [
    "chat_words = {\"LMAO\": \"laughing my ass off\", \"AFAIK\": \"as far as i know\"} # so on for many\n",
    "\n",
    "def removeChatWords(text):\n",
    "    words = []\n",
    "    for word in text.split(\" \"):\n",
    "        if word.upper() in chat_words:\n",
    "            words.append(chat_words[word.upper()])\n",
    "        else:\n",
    "            words.append(word)\n",
    "    new_text = \" \".join(words)\n",
    "    return new_text\n",
    "\n",
    "text = 'LMAO funny'\n",
    "print(removeChatWords(text))\n",
    "\n",
    "df['Review'] = df['Review'].apply(removeChatWords)\n",
    "df['Review']"
   ]
  }
 ],
 "metadata": {
  "kernelspec": {
   "display_name": "Python 3",
   "language": "python",
   "name": "python3"
  },
  "language_info": {
   "codemirror_mode": {
    "name": "ipython",
    "version": 3
   },
   "file_extension": ".py",
   "mimetype": "text/x-python",
   "name": "python",
   "nbconvert_exporter": "python",
   "pygments_lexer": "ipython3",
   "version": "3.10.0"
  }
 },
 "nbformat": 4,
 "nbformat_minor": 2
}
