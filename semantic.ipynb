{
 "cells": [
  {
   "cell_type": "markdown",
   "metadata": {},
   "source": [
    "# Importing own libraries"
   ]
  },
  {
   "cell_type": "code",
   "execution_count": 28,
   "metadata": {},
   "outputs": [],
   "source": [
    "import pandas as pd\n",
    "from preprocess.clean import lowering, removeChatWords, removeEmojis, removeHTMLTags, removePuncFast, removeURLs, removeStopwords\n",
    "\n",
    "from nltk.tokenize import word_tokenize\n",
    "from nltk.stem.porter import PorterStemmer\n",
    "from nltk.stem import WordNetLemmatizer"
   ]
  },
  {
   "cell_type": "markdown",
   "metadata": {},
   "source": [
    "# Dataset"
   ]
  },
  {
   "cell_type": "code",
   "execution_count": 3,
   "metadata": {},
   "outputs": [
    {
     "data": {
      "text/html": [
       "<div>\n",
       "<style scoped>\n",
       "    .dataframe tbody tr th:only-of-type {\n",
       "        vertical-align: middle;\n",
       "    }\n",
       "\n",
       "    .dataframe tbody tr th {\n",
       "        vertical-align: top;\n",
       "    }\n",
       "\n",
       "    .dataframe thead th {\n",
       "        text-align: right;\n",
       "    }\n",
       "</style>\n",
       "<table border=\"1\" class=\"dataframe\">\n",
       "  <thead>\n",
       "    <tr style=\"text-align: right;\">\n",
       "      <th></th>\n",
       "      <th>Review</th>\n",
       "      <th>label</th>\n",
       "    </tr>\n",
       "  </thead>\n",
       "  <tbody>\n",
       "    <tr>\n",
       "      <th>0</th>\n",
       "      <td>Great music service, the audio is high quality...</td>\n",
       "      <td>POSITIVE</td>\n",
       "    </tr>\n",
       "    <tr>\n",
       "      <th>1</th>\n",
       "      <td>Please ignore previous negative rating. This a...</td>\n",
       "      <td>POSITIVE</td>\n",
       "    </tr>\n",
       "    <tr>\n",
       "      <th>2</th>\n",
       "      <td>This pop-up \"Get the best Spotify experience o...</td>\n",
       "      <td>NEGATIVE</td>\n",
       "    </tr>\n",
       "    <tr>\n",
       "      <th>3</th>\n",
       "      <td>Really buggy and terrible to use as of recently</td>\n",
       "      <td>NEGATIVE</td>\n",
       "    </tr>\n",
       "    <tr>\n",
       "      <th>4</th>\n",
       "      <td>Dear Spotify why do I get songs that I didn't ...</td>\n",
       "      <td>NEGATIVE</td>\n",
       "    </tr>\n",
       "  </tbody>\n",
       "</table>\n",
       "</div>"
      ],
      "text/plain": [
       "                                              Review     label\n",
       "0  Great music service, the audio is high quality...  POSITIVE\n",
       "1  Please ignore previous negative rating. This a...  POSITIVE\n",
       "2  This pop-up \"Get the best Spotify experience o...  NEGATIVE\n",
       "3    Really buggy and terrible to use as of recently  NEGATIVE\n",
       "4  Dear Spotify why do I get songs that I didn't ...  NEGATIVE"
      ]
     },
     "execution_count": 3,
     "metadata": {},
     "output_type": "execute_result"
    }
   ],
   "source": [
    "df = pd.read_csv(\"spotify_reviews.csv\")\n",
    "df.head()"
   ]
  },
  {
   "cell_type": "code",
   "execution_count": 4,
   "metadata": {},
   "outputs": [
    {
     "data": {
      "text/plain": [
       "(52702, 2)"
      ]
     },
     "execution_count": 4,
     "metadata": {},
     "output_type": "execute_result"
    }
   ],
   "source": [
    "df.shape"
   ]
  },
  {
   "cell_type": "code",
   "execution_count": 5,
   "metadata": {},
   "outputs": [
    {
     "name": "stdout",
     "output_type": "stream",
     "text": [
      "(52702, 2)\n",
      "(52686, 2)\n"
     ]
    }
   ],
   "source": [
    "print(df.shape)\n",
    "df = df.dropna(how='any')\n",
    "print(df.shape)"
   ]
  },
  {
   "cell_type": "markdown",
   "metadata": {},
   "source": [
    "# Cleaning"
   ]
  },
  {
   "cell_type": "code",
   "execution_count": 8,
   "metadata": {},
   "outputs": [],
   "source": [
    "df['Review'] = df['Review'].apply(removeChatWords)\n",
    "df['Review'] = df['Review'].apply(removeEmojis)\n",
    "df['Review'] = df['Review'].apply(removeHTMLTags)\n",
    "df['Review'] = df['Review'].apply(removeStopwords)\n",
    "df['Review'] = df['Review'].apply(removeURLs)\n",
    "df['Review'] = df['Review'].apply(removePuncFast)\n",
    "df['Review'] = df['Review'].apply(lowering)"
   ]
  },
  {
   "cell_type": "markdown",
   "metadata": {},
   "source": [
    "Tokenisation"
   ]
  },
  {
   "cell_type": "code",
   "execution_count": 33,
   "metadata": {},
   "outputs": [
    {
     "name": "stdout",
     "output_type": "stream",
     "text": [
      "[['great', 'music', 'service', 'audio', 'high', 'quality', 'app', 'easy', 'use', 'also', 'quick', 'friendly', 'support'], ['please', 'ignore', 'previous', 'negative', 'rating', 'this', 'app', 'super', 'great', 'i', 'give', 'five', 'stars'], ['this', 'popup', 'get', 'best', 'spotify', 'experience', 'android', '12', 'annoying', 'please', 'lets', 'get', 'rid', 'this'], ['really', 'buggy', 'terrible', 'use', 'recently'], ['dear', 'spotify', 'i', 'get', 'songs', 'i', 'put', 'playlist', 'and', 'shuffle', 'play'], ['the', 'player', 'controls', 'sometimes', 'disappear', 'reason', 'app', 'restart', 'forgets', 'i', 'playing', 'fixes', 'issue'], ['i', 'love', 'selection', 'lyrics', 'provided', 'song', 'listening', 'to'], ['still', 'extremely', 'slow', 'changing', 'storage', 'external', 'sd', 'card', 'im', 'convinced', 'done', 'purpose', 'spotify', 'knows', 'issue', 'done', 'nothing', 'solve', 'it', 'over', 'time', 'i', 'changed', 'sd', 'cards', 'faster', 'read', 'write', 'speedsall', 'samsung', 'brand', 'and', 'please', 'add', 'dont', 'like', 'song', 'never', 'appear', 'searches', 'playlists'], ['its', 'great', 'app', 'best', 'mp3', 'music', 'app', 'i', 'ever', 'used', 'one', 'problem', 'that', 'cant', 'play', 'songs', 'find', 'songs', 'despite', 'app', 'wonderful', 'i', 'recommend', 'it', 'best'], ['im', 'deleting', 'app', 'following', 'reasons', 'this', 'app', 'failing', 'business', 'model', 'whether', 'streaming', 'services', 'like', 'it', 'not', 'consumer', 'want', 'pay', 'music', 'cant', 'fully', 'own', '6', 'ads', 'successively', 'upon', 'logging', 'in', 'single', 'song', 'much', 'closed', 'app', 'ad', 'number', '6', 'im', 'patient', 'most', 'if', 'ways', 'profit', 'already', 'peaked', 'all', 'thats', 'left', 'decline'], ['cant', 'play', 'spotify', 'wifi'], ['i', 'amazon', 'premium', 'music', 'family', 'package', 'good', 'everyone', 'could', 'listen', 'whatever', 'liked', 'respective', 'alexas', 'rooms', 'asking', 'play', 'problem', 'we', 'spotify', 'premium', 'family', 'alexa', 'integration', 'poor', 'it', 'like', 'spotify', 'it', 'stops', 'playing', 'time', 'cant', 'play', 'different', 'alexa', 'devices', 'time', 'asking', 'why', 'integration', 'better'], ['worst', 'app', 'always', 'says', 'im', 'offline', 'never', 'showed', 'song', 'podcast'], ['hav', 'music', 'like', 'superðÿ™œ'], ['improve', 'ia', 'recommend', 'songs', 'find', 'similar', 'songs', 'itll', 'best', 'music', 'app', 'youtube', 'better', 'that', 'everything', 'else', 'spotify', 'king'], ['android', 'user', 'loads', 'glitches', 'app', 'player', 'bar', 'disappears', 'shuffle', 'button', 'missingsort', 'please'], ['i', 'cant', 'listen', 'downloaded', 'playlist', 'im', 'offline', 'so', 'whats', 'point', 'feature', 'disappointed'], ['it', 'always', 'crashing', 'down', 'unable', 'play', 'stop', 'working', 'everytime', 'i', 'use'], ['i', 'know', 'ads', 'cost', 'free', 'use', 'and', 'yes', 'thats', 'right', 'but', '3', 'ads', 'straight', 'back', 'back', 'like', '1', 'hlaf', 'minutes', 'sometimes', 'dont', 'think', 'thats', 'little', 'much', 'and', 'even', 'volume', 'increases', 'ads'], ['this', 'always', 'favorite', 'platform', 'listen', 'music', 'on', 'i', 'like', 'subscribe', 'alot', 'things', 'one', 'must', 'have']]\n"
     ]
    }
   ],
   "source": [
    "reviews = df.head(20)['Review']\n",
    "# reviews\n",
    "\n",
    "tokens = []\n",
    "\n",
    "for rev in reviews:\n",
    "    tok = word_tokenize(rev)\n",
    "    tokens.append(tok)\n",
    "\n",
    "# tot_reviews = len(tokens)\n",
    "# tot_reviews\n",
    "print(tokens)"
   ]
  },
  {
   "cell_type": "markdown",
   "metadata": {},
   "source": [
    "Stemming\n",
    "\n",
    "- To convert different words into their stem/root word\n",
    "- for eg -> walk/walking/walked -> walk (root word)\n",
    "- stemming is applied on individual tokens and the token gets converted into stemmed(root) token\n",
    "- implemented as an algorithmic based technique (thus it is fast)\n",
    "\n",
    "- Disadvantages -> root word may be not in that particular language\n",
    "- Advantages -> fast compared to lemmatisation"
   ]
  },
  {
   "cell_type": "code",
   "execution_count": 30,
   "metadata": {},
   "outputs": [
    {
     "name": "stdout",
     "output_type": "stream",
     "text": [
      "[['great', 'music', 'servic', 'audio', 'high', 'qualiti', 'app', 'easi', 'use', 'also', 'quick', 'friendli', 'support'], ['pleas', 'ignor', 'previou', 'neg', 'rate', 'thi', 'app', 'super', 'great', 'i', 'give', 'five', 'star'], ['thi', 'popup', 'get', 'best', 'spotifi', 'experi', 'android', '12', 'annoy', 'pleas', 'let', 'get', 'rid', 'thi'], ['realli', 'buggi', 'terribl', 'use', 'recent'], ['dear', 'spotifi', 'i', 'get', 'song', 'i', 'put', 'playlist', 'and', 'shuffl', 'play'], ['the', 'player', 'control', 'sometim', 'disappear', 'reason', 'app', 'restart', 'forget', 'i', 'play', 'fix', 'issu'], ['i', 'love', 'select', 'lyric', 'provid', 'song', 'listen', 'to'], ['still', 'extrem', 'slow', 'chang', 'storag', 'extern', 'sd', 'card', 'im', 'convinc', 'done', 'purpos', 'spotifi', 'know', 'issu', 'done', 'noth', 'solv', 'it', 'over', 'time', 'i', 'chang', 'sd', 'card', 'faster', 'read', 'write', 'speedsal', 'samsung', 'brand', 'and', 'pleas', 'add', 'dont', 'like', 'song', 'never', 'appear', 'search', 'playlist'], ['it', 'great', 'app', 'best', 'mp3', 'music', 'app', 'i', 'ever', 'use', 'one', 'problem', 'that', 'cant', 'play', 'song', 'find', 'song', 'despit', 'app', 'wonder', 'i', 'recommend', 'it', 'best'], ['im', 'delet', 'app', 'follow', 'reason', 'thi', 'app', 'fail', 'busi', 'model', 'whether', 'stream', 'servic', 'like', 'it', 'not', 'consum', 'want', 'pay', 'music', 'cant', 'fulli', 'own', '6', 'ad', 'success', 'upon', 'log', 'in', 'singl', 'song', 'much', 'close', 'app', 'ad', 'number', '6', 'im', 'patient', 'most', 'if', 'way', 'profit', 'alreadi', 'peak', 'all', 'that', 'left', 'declin'], ['cant', 'play', 'spotifi', 'wifi'], ['i', 'amazon', 'premium', 'music', 'famili', 'packag', 'good', 'everyon', 'could', 'listen', 'whatev', 'like', 'respect', 'alexa', 'room', 'ask', 'play', 'problem', 'we', 'spotifi', 'premium', 'famili', 'alexa', 'integr', 'poor', 'it', 'like', 'spotifi', 'it', 'stop', 'play', 'time', 'cant', 'play', 'differ', 'alexa', 'devic', 'time', 'ask', 'whi', 'integr', 'better'], ['worst', 'app', 'alway', 'say', 'im', 'offlin', 'never', 'show', 'song', 'podcast'], ['hav', 'music', 'like', 'superðÿ™œ'], ['improv', 'ia', 'recommend', 'song', 'find', 'similar', 'song', 'itll', 'best', 'music', 'app', 'youtub', 'better', 'that', 'everyth', 'els', 'spotifi', 'king'], ['android', 'user', 'load', 'glitch', 'app', 'player', 'bar', 'disappear', 'shuffl', 'button', 'missingsort', 'pleas'], ['i', 'cant', 'listen', 'download', 'playlist', 'im', 'offlin', 'so', 'what', 'point', 'featur', 'disappoint'], ['it', 'alway', 'crash', 'down', 'unabl', 'play', 'stop', 'work', 'everytim', 'i', 'use'], ['i', 'know', 'ad', 'cost', 'free', 'use', 'and', 'ye', 'that', 'right', 'but', '3', 'ad', 'straight', 'back', 'back', 'like', '1', 'hlaf', 'minut', 'sometim', 'dont', 'think', 'that', 'littl', 'much', 'and', 'even', 'volum', 'increas', 'ad'], ['thi', 'alway', 'favorit', 'platform', 'listen', 'music', 'on', 'i', 'like', 'subscrib', 'alot', 'thing', 'one', 'must', 'have']]\n"
     ]
    }
   ],
   "source": [
    "porterStemmer = PorterStemmer()\n",
    "\n",
    "def stemming(tokenList):\n",
    "    for i in range(len(tokenList)):\n",
    "        stemmedToken = porterStemmer.stem(tokenList[i])\n",
    "        tokenList[i] = stemmedToken\n",
    "\n",
    "tokenStem = tokens\n",
    "\n",
    "for tok in tokenStem:\n",
    "    stemming(tok)\n",
    "\n",
    "# now all the individual tokens are stemmed in this list\n",
    "print(tokenStem)\n"
   ]
  },
  {
   "cell_type": "markdown",
   "metadata": {},
   "source": [
    "Lemmatisation\n",
    "\n",
    "- same functioning as stemming\n",
    "- Advantages -> root word is in the language\n",
    "- Disadvantages -> slow compared to stemming\n",
    "- implemented as a searching technique from python disctionary"
   ]
  },
  {
   "cell_type": "code",
   "execution_count": 36,
   "metadata": {},
   "outputs": [
    {
     "name": "stdout",
     "output_type": "stream",
     "text": [
      "[['great', 'music', 'servic', 'audio', 'high', 'qualiti', 'app', 'easi', 'use', 'also', 'quick', 'friendli', 'support'], ['plea', 'ignor', 'previou', 'neg', 'rate', 'thi', 'app', 'super', 'great', 'i', 'give', 'five', 'star'], ['thi', 'popup', 'get', 'best', 'spotifi', 'experi', 'android', '12', 'annoy', 'plea', 'let', 'get', 'rid', 'thi'], ['realli', 'buggi', 'terribl', 'use', 'recent'], ['dear', 'spotifi', 'i', 'get', 'song', 'i', 'put', 'playlist', 'and', 'shuffl', 'play'], ['the', 'player', 'control', 'sometim', 'disappear', 'reason', 'app', 'restart', 'forget', 'i', 'play', 'fix', 'issu'], ['i', 'love', 'select', 'lyric', 'provid', 'song', 'listen', 'to'], ['still', 'extrem', 'slow', 'chang', 'storag', 'extern', 'sd', 'card', 'im', 'convinc', 'done', 'purpo', 'spotifi', 'know', 'issu', 'done', 'noth', 'solv', 'it', 'over', 'time', 'i', 'chang', 'sd', 'card', 'faster', 'read', 'write', 'speedsal', 'samsung', 'brand', 'and', 'plea', 'add', 'dont', 'like', 'song', 'never', 'appear', 'search', 'playlist'], ['it', 'great', 'app', 'best', 'mp3', 'music', 'app', 'i', 'ever', 'use', 'one', 'problem', 'that', 'cant', 'play', 'song', 'find', 'song', 'despit', 'app', 'wonder', 'i', 'recommend', 'it', 'best'], ['im', 'delet', 'app', 'follow', 'reason', 'thi', 'app', 'fail', 'busi', 'model', 'whether', 'stream', 'servic', 'like', 'it', 'not', 'consum', 'want', 'pay', 'music', 'cant', 'fulli', 'own', '6', 'ad', 'success', 'upon', 'log', 'in', 'singl', 'song', 'much', 'close', 'app', 'ad', 'number', '6', 'im', 'patient', 'most', 'if', 'way', 'profit', 'alreadi', 'peak', 'all', 'that', 'left', 'declin'], ['cant', 'play', 'spotifi', 'wifi'], ['i', 'amazon', 'premium', 'music', 'famili', 'packag', 'good', 'everyon', 'could', 'listen', 'whatev', 'like', 'respect', 'alexa', 'room', 'ask', 'play', 'problem', 'we', 'spotifi', 'premium', 'famili', 'alexa', 'integr', 'poor', 'it', 'like', 'spotifi', 'it', 'stop', 'play', 'time', 'cant', 'play', 'differ', 'alexa', 'devic', 'time', 'ask', 'whi', 'integr', 'better'], ['worst', 'app', 'alway', 'say', 'im', 'offlin', 'never', 'show', 'song', 'podcast'], ['hav', 'music', 'like', 'superðÿ™œ'], ['improv', 'ia', 'recommend', 'song', 'find', 'similar', 'song', 'itll', 'best', 'music', 'app', 'youtub', 'better', 'that', 'everyth', 'el', 'spotifi', 'king'], ['android', 'user', 'load', 'glitch', 'app', 'player', 'bar', 'disappear', 'shuffl', 'button', 'missingsort', 'plea'], ['i', 'cant', 'listen', 'download', 'playlist', 'im', 'offlin', 'so', 'what', 'point', 'featur', 'disappoint'], ['it', 'alway', 'crash', 'down', 'unabl', 'play', 'stop', 'work', 'everytim', 'i', 'use'], ['i', 'know', 'ad', 'cost', 'free', 'use', 'and', 'ye', 'that', 'right', 'but', '3', 'ad', 'straight', 'back', 'back', 'like', '1', 'hlaf', 'minut', 'sometim', 'dont', 'think', 'that', 'littl', 'much', 'and', 'even', 'volum', 'increa', 'ad'], ['thi', 'alway', 'favorit', 'platform', 'listen', 'music', 'on', 'i', 'like', 'subscrib', 'alot', 'thing', 'one', 'must', 'have']]\n"
     ]
    }
   ],
   "source": [
    "lemma = WordNetLemmatizer()\n",
    "\n",
    "def lemmatisation(tokenList):\n",
    "    for i in range(len(tokenList)):\n",
    "        lemmaToken = lemma.lemmatize(tokenList[i],pos='v')\n",
    "        tokenList[i] = lemmaToken\n",
    "\n",
    "tokenLemma = tokens\n",
    "\n",
    "for tok in tokenLemma:\n",
    "    stemming(tok)\n",
    "\n",
    "# now all the individual tokens are stemmed in this list\n",
    "print(tokenLemma)"
   ]
  }
 ],
 "metadata": {
  "kernelspec": {
   "display_name": "Python 3",
   "language": "python",
   "name": "python3"
  },
  "language_info": {
   "codemirror_mode": {
    "name": "ipython",
    "version": 3
   },
   "file_extension": ".py",
   "mimetype": "text/x-python",
   "name": "python",
   "nbconvert_exporter": "python",
   "pygments_lexer": "ipython3",
   "version": "3.10.0"
  }
 },
 "nbformat": 4,
 "nbformat_minor": 2
}
